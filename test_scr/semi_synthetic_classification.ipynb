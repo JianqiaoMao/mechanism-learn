{
 "cells": [
  {
   "cell_type": "markdown",
   "id": "492aebf6",
   "metadata": {},
   "source": [
    "## Simulation on the semi-synthetic background-MNIST classification task"
   ]
  },
  {
   "cell_type": "code",
   "execution_count": 1,
   "id": "73d3b124",
   "metadata": {},
   "outputs": [],
   "source": [
    "from mechanism_learn import pipeline as mlpipe\n",
    "import numpy as np\n",
    "import pandas as pd\n",
    "from scipy.ndimage import maximum_filter\n",
    "from sklearn.metrics import classification_report\n",
    "from sklearn.neighbors import KNeighborsClassifier\n",
    "\n",
    "semisyn_data_dir = r\"../test_data/semi_synthetic_data/frontdoor_data/\"\n",
    "\n",
    "def maxPooling_imgArr(img_flatArr, kernel_size, padding = \"nearest\", flatten = False):\n",
    "    n_imgs = img_flatArr.shape[0]\n",
    "    img_size = int(img_flatArr.shape[1]**0.5)\n",
    "    img_arr = img_flatArr.reshape(n_imgs, img_size, img_size)\n",
    "    resized_imgs = []\n",
    "    for i in range(n_imgs):\n",
    "        resized_imgs.append(maximum_filter(img_arr[i], size=kernel_size, mode=padding)[::kernel_size, ::kernel_size])\n",
    "    resized_imgs = np.array(resized_imgs)\n",
    "    if flatten:\n",
    "        resized_imgs = resized_imgs.reshape(n_imgs, -1)\n",
    "    return resized_imgs"
   ]
  },
  {
   "cell_type": "markdown",
   "id": "923687ba",
   "metadata": {},
   "source": [
    "### Load datasets"
   ]
  },
  {
   "cell_type": "code",
   "execution_count": 2,
   "id": "4640902a",
   "metadata": {},
   "outputs": [],
   "source": [
    "X_train_conf = pd.read_csv(semisyn_data_dir + \"X_train_conf.csv\")\n",
    "Y_train_conf = pd.read_csv(semisyn_data_dir + \"Y_train_conf.csv\")\n",
    "Z_train_conf = pd.read_csv(semisyn_data_dir + \"Z_train_conf.csv\")\n",
    "X_train_conf = np.array(X_train_conf)\n",
    "X_train_conf = maxPooling_imgArr(X_train_conf, kernel_size=3, flatten=True)\n",
    "Y_train_conf = np.array(Y_train_conf).reshape(-1,1)\n",
    "Z_train_conf = np.array(Z_train_conf).reshape(-1,1)\n",
    "\n",
    "X_test_unconf = pd.read_csv(semisyn_data_dir + \"X_test_unconf.csv\")\n",
    "Y_test_unconf = pd.read_csv(semisyn_data_dir + \"Y_test_unconf.csv\")\n",
    "X_test_unconf = np.array(X_test_unconf)\n",
    "X_test_unconf = maxPooling_imgArr(X_test_unconf, kernel_size=3, flatten=True)\n",
    "Y_test_unconf = np.array(Y_test_unconf).reshape(-1,1)\n",
    "\n",
    "X_test_conf = pd.read_csv(semisyn_data_dir + \"X_test_conf.csv\")\n",
    "Y_test_conf = pd.read_csv(semisyn_data_dir + \"Y_test_conf.csv\")\n",
    "X_test_conf = np.array(X_test_conf)\n",
    "X_test_conf = maxPooling_imgArr(X_test_conf, kernel_size=3, flatten=True)\n",
    "Y_test_conf = np.array(Y_test_conf).reshape(-1,1)"
   ]
  },
  {
   "cell_type": "markdown",
   "id": "5302397a",
   "metadata": {},
   "source": [
    "### Train a deconfounded KNN using mechanism learning"
   ]
  },
  {
   "cell_type": "code",
   "execution_count": null,
   "id": "dcf535a5",
   "metadata": {},
   "outputs": [],
   "source": [
    "ml_gmm_pipeline = mlpipe.mechanism_learning_process(cause_data = Y_train_conf,\n",
    "                                                    mechanism_data = Z_train_conf, \n",
    "                                                    effect_data = X_train_conf, \n",
    "                                                    intv_values = np.unique(Y_train_conf), \n",
    "                                                    dist_map = None, \n",
    "                                                    est_method = \"histogram\", \n",
    "                                                    n_bins = [0, 0]\n",
    "                                                    )\n",
    "\n",
    "ml_gmm_pipeline.cwgmm_fit(comp_k = 500,\n",
    "                          max_iter = 500, \n",
    "                          tol = 1e-5, \n",
    "                          init_method = \"kmeans++\", \n",
    "                          cov_type = \"diag\", \n",
    "                          random_seed=None, \n",
    "                          return_model = False,\n",
    "                          verbose = 2)\n",
    "\n",
    "ml_gmm_pipeline.cwgmm_resample(n_samples=2000, return_samples = False)\n",
    "\n",
    "deconf_gmm_clf = ml_gmm_pipeline.deconf_model_fit(ml_model = KNeighborsClassifier(n_neighbors = 3))"
   ]
  },
  {
   "cell_type": "markdown",
   "id": "15489091",
   "metadata": {},
   "source": [
    "### Train a deconfounded KNN classifier using CB-based deconfounding method"
   ]
  },
  {
   "cell_type": "code",
   "execution_count": null,
   "id": "7a445700",
   "metadata": {},
   "outputs": [],
   "source": [
    "ml_cb_pipeline = mlpipe.mechanism_learning_process(cause_data = Y_train_conf,\n",
    "                                                   mechanism_data = Z_train_conf, \n",
    "                                                   effect_data = X_train_conf, \n",
    "                                                   intv_values = np.unique(Y_train_conf), \n",
    "                                                   dist_map = None, \n",
    "                                                   est_method = \"histogram\", \n",
    "                                                   n_bins = [0, 0]\n",
    "                                                   )\n",
    "deconf_X_cb, deconf_Y_cb = ml_cb_pipeline.cb_resample(n_samples = 2000,\n",
    "                                                      cb_mode = \"fast\",\n",
    "                                                      return_samples = True)\n",
    "\n",
    "deconf_cb_clf = ml_cb_pipeline.deconf_model_fit(ml_model = KNeighborsClassifier(n_neighbors = 3))"
   ]
  },
  {
   "cell_type": "markdown",
   "id": "8e00acf7",
   "metadata": {},
   "source": [
    "### Train a confounded KNN classifier"
   ]
  },
  {
   "cell_type": "code",
   "execution_count": 19,
   "id": "48826d1d",
   "metadata": {},
   "outputs": [],
   "source": [
    "conf_clf = KNeighborsClassifier(n_neighbors = 20)\n",
    "conf_clf = conf_clf.fit(X_train_conf, Y_train_conf.reshape(-1))"
   ]
  },
  {
   "cell_type": "markdown",
   "id": "6590bdac",
   "metadata": {},
   "source": [
    "### Model performance comparison"
   ]
  },
  {
   "cell_type": "code",
   "execution_count": 20,
   "id": "748dd950",
   "metadata": {},
   "outputs": [
    {
     "name": "stdout",
     "output_type": "stream",
     "text": [
      "Test on the non-confounded test set:\n",
      "Report of deconfounded model using mechanism learning:\n",
      "              precision    recall  f1-score   support\n",
      "\n",
      "           1     0.9299    0.9256    0.9277       430\n",
      "           2     0.9380    0.9416    0.9398       514\n",
      "\n",
      "    accuracy                         0.9343       944\n",
      "   macro avg     0.9339    0.9336    0.9338       944\n",
      "weighted avg     0.9343    0.9343    0.9343       944\n",
      "\n",
      "--------------------\n",
      "Report of deconfounded model using CB-based method:\n",
      "              precision    recall  f1-score   support\n",
      "\n",
      "           1     0.9251    0.9186    0.9218       430\n",
      "           2     0.9323    0.9377    0.9350       514\n",
      "\n",
      "    accuracy                         0.9290       944\n",
      "   macro avg     0.9287    0.9282    0.9284       944\n",
      "weighted avg     0.9290    0.9290    0.9290       944\n",
      "\n",
      "--------------------\n",
      "Report of confonded model:\n",
      "              precision    recall  f1-score   support\n",
      "\n",
      "           1     0.7828    0.6791    0.7273       430\n",
      "           2     0.7583    0.8424    0.7982       514\n",
      "\n",
      "    accuracy                         0.7680       944\n",
      "   macro avg     0.7706    0.7607    0.7627       944\n",
      "weighted avg     0.7695    0.7680    0.7659       944\n",
      "\n",
      "******************************\n",
      "Test on the confounded test set:\n",
      "Report of deconfounded model using mechanism learning:\n",
      "              precision    recall  f1-score   support\n",
      "\n",
      "           1     0.9564    0.9408    0.9486       490\n",
      "           2     0.9372    0.9537    0.9454       454\n",
      "\n",
      "    accuracy                         0.9470       944\n",
      "   macro avg     0.9468    0.9473    0.9470       944\n",
      "weighted avg     0.9472    0.9470    0.9470       944\n",
      "\n",
      "--------------------\n",
      "Report of deconfounded model using CB-based method:\n",
      "              precision    recall  f1-score   support\n",
      "\n",
      "           1     0.9507    0.9449    0.9478       490\n",
      "           2     0.9409    0.9471    0.9440       454\n",
      "\n",
      "    accuracy                         0.9460       944\n",
      "   macro avg     0.9458    0.9460    0.9459       944\n",
      "weighted avg     0.9460    0.9460    0.9460       944\n",
      "\n",
      "--------------------\n",
      "Report of confonded model:\n",
      "              precision    recall  f1-score   support\n",
      "\n",
      "           1     0.9792    0.9612    0.9701       490\n",
      "           2     0.9590    0.9780    0.9684       454\n",
      "\n",
      "    accuracy                         0.9693       944\n",
      "   macro avg     0.9691    0.9696    0.9693       944\n",
      "weighted avg     0.9695    0.9693    0.9693       944\n",
      "\n"
     ]
    }
   ],
   "source": [
    "print(\"Test on the non-confounded test set:\")\n",
    "\n",
    "y_pred_gmm_deconf_unconf = deconf_gmm_clf.predict(X_test_unconf)\n",
    "print(\"Report of deconfounded model using mechanism learning:\")\n",
    "print(classification_report(Y_test_unconf, y_pred_gmm_deconf_unconf, digits=4))\n",
    "print(\"-\"*20)\n",
    "y_pred_cb_deconf_unconf = deconf_cb_clf.predict(X_test_unconf)\n",
    "print(\"Report of deconfounded model using CB-based method:\")\n",
    "print(classification_report(Y_test_unconf, y_pred_cb_deconf_unconf, digits=4))\n",
    "print(\"-\"*20)\n",
    "y_pred_conf_unconf = conf_clf.predict(X_test_unconf)\n",
    "print(\"Report of confonded model:\")\n",
    "print(classification_report(Y_test_unconf, y_pred_conf_unconf, digits=4))\n",
    "\n",
    "\n",
    "print(\"*\"*30)\n",
    "print(\"Test on the confounded test set:\")\n",
    "\n",
    "y_pred_gmm_deconf_conf = deconf_gmm_clf.predict(X_test_conf)\n",
    "print(\"Report of deconfounded model using mechanism learning:\")\n",
    "print(classification_report(Y_test_conf, y_pred_gmm_deconf_conf, digits=4))\n",
    "print(\"-\"*20)\n",
    "y_pred_cb_deconf_conf = deconf_cb_clf.predict(X_test_conf)\n",
    "print(\"Report of deconfounded model using CB-based method:\")\n",
    "print(classification_report(Y_test_conf, y_pred_cb_deconf_conf, digits=4))\n",
    "print(\"-\"*20)\n",
    "y_pred_conf_conf = conf_clf.predict(X_test_conf)\n",
    "print(\"Report of confonded model:\")\n",
    "print(classification_report(Y_test_conf, y_pred_conf_conf, digits=4))"
   ]
  }
 ],
 "metadata": {
  "kernelspec": {
   "display_name": "base",
   "language": "python",
   "name": "python3"
  },
  "language_info": {
   "codemirror_mode": {
    "name": "ipython",
    "version": 3
   },
   "file_extension": ".py",
   "mimetype": "text/x-python",
   "name": "python",
   "nbconvert_exporter": "python",
   "pygments_lexer": "ipython3",
   "version": "3.9.12"
  }
 },
 "nbformat": 4,
 "nbformat_minor": 5
}
