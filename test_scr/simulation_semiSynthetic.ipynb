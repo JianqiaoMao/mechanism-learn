{
 "cells": [
  {
   "cell_type": "markdown",
   "metadata": {},
   "source": [
    "# Simulation on the semi-synthetic background-MNIST data"
   ]
  },
  {
   "cell_type": "code",
   "execution_count": 1,
   "metadata": {},
   "outputs": [],
   "source": [
    "import pandas as pd\n",
    "import numpy as np\n",
    "from sklearn.neighbors import KNeighborsClassifier\n",
    "from sklearn.metrics import classification_report\n",
    "import mechanismlearn as ml\n",
    "semiSyn_data_dir = r\"../test_data/simu_data/semi_synthetic_data/frontdoor_data/\""
   ]
  },
  {
   "cell_type": "markdown",
   "metadata": {},
   "source": [
    "### Read datasets"
   ]
  },
  {
   "cell_type": "code",
   "execution_count": 2,
   "metadata": {},
   "outputs": [],
   "source": [
    "X_train_conf = pd.read_csv(semiSyn_data_dir + \"X_train_conf.csv\")\n",
    "Y_train_conf = pd.read_csv(semiSyn_data_dir + \"Y_train_conf.csv\")\n",
    "Z_train_conf = pd.read_csv(semiSyn_data_dir + \"Z_train_conf.csv\")\n",
    "X_train_conf = np.array(X_train_conf)\n",
    "Y_train_conf = np.array(Y_train_conf).reshape(-1,1)\n",
    "Z_train_conf = np.array(Z_train_conf).reshape(-1,1)\n",
    "\n",
    "X_test_unconf = pd.read_csv(semiSyn_data_dir + \"X_test_unconf.csv\")\n",
    "Y_test_unconf = pd.read_csv(semiSyn_data_dir + \"Y_test_unconf.csv\")\n",
    "X_test_unconf = np.array(X_test_unconf)\n",
    "Y_test_unconf = np.array(Y_test_unconf).reshape(-1,1)\n",
    "\n",
    "X_test_conf = pd.read_csv(semiSyn_data_dir + \"X_test_conf.csv\")\n",
    "Y_test_conf = pd.read_csv(semiSyn_data_dir + \"Y_test_conf.csv\")\n",
    "X_test_conf = np.array(X_test_conf)\n",
    "Y_test_conf = np.array(Y_test_conf).reshape(-1,1)"
   ]
  },
  {
   "cell_type": "markdown",
   "metadata": {},
   "source": [
    "### Train a deconfounded KNN using mechanism learning"
   ]
  },
  {
   "cell_type": "code",
   "execution_count": 3,
   "metadata": {},
   "outputs": [],
   "source": [
    "clf_deconf, deconf_data = ml.mechanism_classifier(cause_data = {\"Y\": Y_train_conf}, \n",
    "                                                  mechanism_data = {\"Z\": Z_train_conf},\n",
    "                                                  effect_data = {\"X\": X_train_conf}, \n",
    "                                                  n_bins = [0,0],\n",
    "                                                  ml_model = KNeighborsClassifier(n_neighbors = 5), \n",
    "                                                  rebalance = False, \n",
    "                                                  n_samples = None, \n",
    "                                                  cb_mode = \"fast\",\n",
    "                                                  output_data = True)"
   ]
  },
  {
   "cell_type": "markdown",
   "metadata": {},
   "source": [
    "### Train a confounded KNN classifier"
   ]
  },
  {
   "cell_type": "code",
   "execution_count": 4,
   "metadata": {},
   "outputs": [],
   "source": [
    "clf_conf = KNeighborsClassifier(n_neighbors = 5)\n",
    "clf_conf = clf_conf.fit(X_train_conf, Y_train_conf.reshape(-1))"
   ]
  },
  {
   "cell_type": "markdown",
   "metadata": {},
   "source": [
    "### Model performance comparison"
   ]
  },
  {
   "cell_type": "code",
   "execution_count": 5,
   "metadata": {},
   "outputs": [
    {
     "name": "stdout",
     "output_type": "stream",
     "text": [
      "Test on the unconfounded test set:\n",
      "Report of de-confonded model:\n",
      "              precision    recall  f1-score   support\n",
      "\n",
      "           1       0.94      0.92      0.93       298\n",
      "           2       0.92      0.94      0.93       300\n",
      "\n",
      "    accuracy                           0.93       598\n",
      "   macro avg       0.93      0.93      0.93       598\n",
      "weighted avg       0.93      0.93      0.93       598\n",
      "\n",
      "--------------------\n",
      "Report of confonded model:\n",
      "              precision    recall  f1-score   support\n",
      "\n",
      "           1       0.79      0.65      0.71       298\n",
      "           2       0.70      0.83      0.76       300\n",
      "\n",
      "    accuracy                           0.74       598\n",
      "   macro avg       0.75      0.74      0.74       598\n",
      "weighted avg       0.75      0.74      0.74       598\n",
      "\n",
      "******************************\n",
      "Test on the confounded test set:\n",
      "Report of de-confonded model:\n",
      "              precision    recall  f1-score   support\n",
      "\n",
      "           1       0.94      0.93      0.93       312\n",
      "           2       0.92      0.93      0.93       287\n",
      "\n",
      "    accuracy                           0.93       599\n",
      "   macro avg       0.93      0.93      0.93       599\n",
      "weighted avg       0.93      0.93      0.93       599\n",
      "\n",
      "--------------------\n",
      "Report of confonded model:\n",
      "              precision    recall  f1-score   support\n",
      "\n",
      "           1       0.97      0.94      0.95       312\n",
      "           2       0.94      0.97      0.95       287\n",
      "\n",
      "    accuracy                           0.95       599\n",
      "   macro avg       0.95      0.95      0.95       599\n",
      "weighted avg       0.95      0.95      0.95       599\n",
      "\n"
     ]
    }
   ],
   "source": [
    "print(\"Test on the unconfounded test set:\")\n",
    "y_pred_deconf_unconf = clf_deconf.predict(X_test_unconf)\n",
    "print(\"Report of de-confonded model:\")\n",
    "print(classification_report(Y_test_unconf, y_pred_deconf_unconf))\n",
    "\n",
    "print(\"-\"*20)\n",
    "y_pred_conf_unconf = clf_conf.predict(X_test_unconf)\n",
    "print(\"Report of confonded model:\")\n",
    "print(classification_report(Y_test_unconf, y_pred_conf_unconf))\n",
    "\n",
    "print(\"*\"*30)\n",
    "print(\"Test on the confounded test set:\")\n",
    "y_pred_deconf_conf = clf_deconf.predict(X_test_conf)\n",
    "print(\"Report of de-confonded model:\")\n",
    "print(classification_report(Y_test_conf, y_pred_deconf_conf))\n",
    "\n",
    "print(\"-\"*20)\n",
    "y_pred_conf_conf = clf_conf.predict(X_test_conf)\n",
    "print(\"Report of confonded model:\")\n",
    "print(classification_report(Y_test_conf, y_pred_conf_conf))"
   ]
  }
 ],
 "metadata": {
  "kernelspec": {
   "display_name": "base",
   "language": "python",
   "name": "python3"
  },
  "language_info": {
   "codemirror_mode": {
    "name": "ipython",
    "version": 3
   },
   "file_extension": ".py",
   "mimetype": "text/x-python",
   "name": "python",
   "nbconvert_exporter": "python",
   "pygments_lexer": "ipython3",
   "version": "3.9.12"
  }
 },
 "nbformat": 4,
 "nbformat_minor": 2
}
